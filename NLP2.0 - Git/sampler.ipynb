{
 "cells": [
  {
   "cell_type": "code",
   "execution_count": 57,
   "metadata": {},
   "outputs": [],
   "source": [
    "# Company: IBM Italy & Politecnico di Milano\n",
    "# Last update: 30 May 2019\n",
    "# Author: Niccolo Howard Minetti\n",
    "# Version: 2.0 \n",
    "# Notes: This script pools a good set of logs for training and testing the model.\n",
    "# ID: sampler"
   ]
  },
  {
   "cell_type": "code",
   "execution_count": 1,
   "metadata": {},
   "outputs": [],
   "source": [
    "import pandas as pd\n",
    "import csv\n",
    "import os\n",
    "import pickle"
   ]
  },
  {
   "cell_type": "code",
   "execution_count": 2,
   "metadata": {},
   "outputs": [],
   "source": [
    "#Function GetFileList returns list of files that folder contains\n",
    "def getFileList():\n",
    "    folder = \"/NLP2.0/logs/newDump/\"\n",
    "    filelist = []\n",
    "    for root, dirs, files in os.walk(folder):  \n",
    "        for filename in files:\n",
    "            filelist.append(filename)\n",
    "        return filelist"
   ]
  },
  {
   "cell_type": "code",
   "execution_count": 3,
   "metadata": {},
   "outputs": [],
   "source": [
    "#Sample function gets n rows of utf8, high and low categories, log source\n",
    "def sample(path, nrow):\n",
    "    \n",
    "    csvfile = pd.read_csv(path, error_bad_lines = False, nrows = nrow, encoding = \"utf-8\",\n",
    "                          usecols = ['utf8_payload',\n",
    "                                     'categoryname_highlevelcategory',\n",
    "                                     'categoryname_category' ])\n",
    "    csvfile = csvfile.dropna()\n",
    "    \n",
    "    return csvfile"
   ]
  },
  {
   "cell_type": "code",
   "execution_count": 4,
   "metadata": {},
   "outputs": [],
   "source": [
    "def multisampler(nrow):\n",
    "    \n",
    "    path = \"/NLP2.0/logs/\"\n",
    "    logs = []\n",
    "    for i in range (0, len(getFileList())):\n",
    "        newpath = path + getFileList()[i]\n",
    "        logs.append(sample(newpath, 10))\n",
    "    \n",
    "    with open('pickledump', 'wb') as f:\n",
    "        pickle.dump(logs, f) \n",
    "    \n",
    "    return \"Pickle Logs\"\n",
    "        "
   ]
  },
  {
   "cell_type": "code",
   "execution_count": 5,
   "metadata": {},
   "outputs": [],
   "source": [
    "def __main__():\n",
    "    multisampler(1000)\n",
    "    \n",
    "    return \"Exit\""
   ]
  },
  {
   "cell_type": "code",
   "execution_count": null,
   "metadata": {},
   "outputs": [],
   "source": []
  }
 ],
 "metadata": {
  "kernelspec": {
   "display_name": "Python 3",
   "language": "python",
   "name": "python3"
  },
  "language_info": {
   "codemirror_mode": {
    "name": "ipython",
    "version": 3
   },
   "file_extension": ".py",
   "mimetype": "text/x-python",
   "name": "python",
   "nbconvert_exporter": "python",
   "pygments_lexer": "ipython3",
   "version": "3.7.3"
  }
 },
 "nbformat": 4,
 "nbformat_minor": 2
}
