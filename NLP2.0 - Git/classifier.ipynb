{
 "cells": [
  {
   "cell_type": "code",
   "execution_count": 1,
   "metadata": {},
   "outputs": [],
   "source": [
    "# Company: IBM Italy & Politecnico di Milano\n",
    "# Last update: 30 May 2019\n",
    "# Author: Niccolo Howard Minetti\n",
    "# Version: 2.0 \n",
    "# Notes: This script classifies a given log.\n",
    "# ID: classifier"
   ]
  },
  {
   "cell_type": "code",
   "execution_count": 2,
   "metadata": {},
   "outputs": [
    {
     "name": "stderr",
     "output_type": "stream",
     "text": [
      "Using TensorFlow backend.\n"
     ]
    }
   ],
   "source": [
    "import pandas as pd     #Pandas Library for data manipulation\n",
    "import numpy as np     #Numpy Library for array operations\n",
    "from sklearn.preprocessing import LabelBinarizer, LabelEncoder #SKLearn Library for creating Dictionary and Encoder\n",
    "\n",
    "#ML framework on top of Tensorflow\n",
    "from keras.preprocessing import text, sequence\n",
    "from keras.models import Sequential, model_from_json, load_model\n",
    "from keras.layers import Dense, Activation, Dropout\n",
    "from keras import utils\n",
    "\n",
    "import pickle"
   ]
  },
  {
   "cell_type": "code",
   "execution_count": null,
   "metadata": {},
   "outputs": [],
   "source": [
    "log = input() #Insert raw utf_8 payload"
   ]
  },
  {
   "cell_type": "code",
   "execution_count": null,
   "metadata": {},
   "outputs": [],
   "source": []
  },
  {
   "cell_type": "code",
   "execution_count": 48,
   "metadata": {},
   "outputs": [],
   "source": [
    "encoder = pd.read_pickle(\"encoder.pickle\")    #Load homogeneous sample of 5K logs"
   ]
  },
  {
   "cell_type": "code",
   "execution_count": 49,
   "metadata": {},
   "outputs": [],
   "source": [
    "tokenizer = pd.read_pickle(\"tokenize.pickle\")         #Load homogeneous sample of 5K logs\n"
   ]
  },
  {
   "cell_type": "code",
   "execution_count": 50,
   "metadata": {},
   "outputs": [],
   "source": [
    "model = []\n",
    "path = \"/NLP2.0/model/logModel.h5\"\n",
    "model = load_model(path)"
   ]
  },
  {
   "cell_type": "code",
   "execution_count": 51,
   "metadata": {},
   "outputs": [],
   "source": [
    "x_test = tokenizer.texts_to_matrix(log)"
   ]
  },
  {
   "cell_type": "code",
   "execution_count": 52,
   "metadata": {
    "scrolled": true
   },
   "outputs": [],
   "source": [
    "prediction = []\n",
    "for i in range(10): \n",
    "    #print(np.array([x_test[i]]))\n",
    "    prediction.append(model.predict(np.array([x_test[i]])))"
   ]
  },
  {
   "cell_type": "code",
   "execution_count": 54,
   "metadata": {},
   "outputs": [
    {
     "name": "stdout",
     "output_type": "stream",
     "text": [
      "LABELS: \n",
      "\n",
      "Actual label:Kerberos Session Opened\n",
      "Predicted label: Kerberos Session Opened\n",
      "\n",
      "\n",
      "MOST LIKELY CATEGORY: \n",
      "\n",
      "Kerberos Session Opened : 0.9971576\n"
     ]
    }
   ],
   "source": [
    "text_labels = encoder.classes_ \n",
    "predicted_label = text_labels[np.argmax(prediction[i])]\n",
    "otherpredicted_label = prediction[i] \n",
    "print(\"LABELS: \\n\")\n",
    "print(\"Predicted label: \" + predicted_label)\n",
    "print(\"\\n\")\n",
    "print(\"MOST LIKELY CATEGORY: \\n\")\n",
    "    \n",
    "tosum = []\n",
    "for count in range(0, len(text_labels)):\n",
    "    tosum.append([text_labels[count],list(otherpredicted_label)[0][count]])\n",
    "    if(list(otherpredicted_label)[0][count] > 0.01):    \n",
    "         print(text_labels[count] + \" : \" + str(list(otherpredicted_label)[0][count]))\n",
    "   "
   ]
  },
  {
   "cell_type": "code",
   "execution_count": null,
   "metadata": {},
   "outputs": [],
   "source": []
  },
  {
   "cell_type": "code",
   "execution_count": null,
   "metadata": {},
   "outputs": [],
   "source": []
  },
  {
   "cell_type": "code",
   "execution_count": null,
   "metadata": {},
   "outputs": [],
   "source": []
  }
 ],
 "metadata": {
  "kernelspec": {
   "display_name": "Python 3",
   "language": "python",
   "name": "python3"
  },
  "language_info": {
   "codemirror_mode": {
    "name": "ipython",
    "version": 3
   },
   "file_extension": ".py",
   "mimetype": "text/x-python",
   "name": "python",
   "nbconvert_exporter": "python",
   "pygments_lexer": "ipython3",
   "version": "3.7.3"
  }
 },
 "nbformat": 4,
 "nbformat_minor": 2
}
